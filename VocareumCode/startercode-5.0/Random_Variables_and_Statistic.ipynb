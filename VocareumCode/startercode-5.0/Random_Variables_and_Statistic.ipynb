{
    "cells": [
        {
            "cell_type": "markdown",
            "metadata": {},
            "source": [
                "# Random Variables and Statistical Inferences and Statistical Distributions and Hypothesis Testing\n",
                "\n",
                "**_Author: Jessica Cervi_**\n",
                "\n",
                "**Expected time = 2.5 hrs**\n",
                "\n",
                "**Total points = 85 points**"
            ]
        },
        {
            "cell_type": "markdown",
            "metadata": {},
            "source": [
                "\n",
                "## Assignment Overview\n",
                "\n",
                "\n",
                "In this assignment you will apply the probability and statistical distributions you learned in Modules 8 and 9 in Python. You will generate data to determine probability of some events and perform appropriate simple sampling. You will be introduced  to new discrete and continuous distributions and review the concept of confidence intervals.\n",
                "\n",
                "\n",
                "This assignment is designed to build your familiarity and comfort coding in Python while also helping you review key topics from each module. As you progress through the assignment, answers will get increasingly complex. It is important that you adopt a data scientist's mindset when completing this assignment. Remember to run your code from each cell before submitting your assignment. Running your code beforehand will notify you of errors and give you a chance to fix them before submitting. You should view your Vocareum submission as if you are delivering a final project to your manager or client.\n",
                "\n",
                "**Vocareum Tips**\n",
                "   - Do not add arguments or options to functions unless you are specifically asked to. This will cause an error in Vocareum.\n",
                "   - Do not use a library unless you are expicitly asked to in the question.\n",
                "\n",
                "\n",
                "### Learning Objectives\n",
                "\n",
                "- Use fundamental concepts of probability theory to examine random variables and quantify the probability of a given outcome.  \n",
                "- Explain the difference between standard deviation and variance when analyzing a dataset and be able to draw a random sample. \n",
                "- Explain common statistical distributions such as the Gamma distribution, t-distribution, and exponential distribution. \n",
                "- Compute the confidence intervals to test a model. "
            ]
        },
        {
            "cell_type": "markdown",
            "metadata": {},
            "source": [
                "\n",
                "## Index:\n",
                "\n",
                "#### Random Variables and Statistical Inferences\n",
                "\n",
                "- [Question 1](#Question-1)\n",
                "- [Question 2](#Question-2)\n",
                "- [Question 3](#Question-3)\n",
                "- [Question 4](#Question-4)\n",
                "- [Question 5](#Question-5)\n",
                "- [Question 6](#Question-6)\n",
                "- [Question 7](#Question-7)\n",
                "\n",
                "####  Statistical Distributions and Hypothesis Testing\n",
                "\n",
                "- [Question 8](#Question-8)\n",
                "- [Question 9](#Question-9)\n",
                "- [Question 10](#Question-10)\n",
                "- [Question 11](#Question-11)\n",
                "\n",
                "\n"
            ]
        },
        {
            "cell_type": "markdown",
            "metadata": {},
            "source": [
                "Begin by importing packages needed for this assignment:"
            ]
        },
        {
            "cell_type": "code",
            "execution_count": null,
            "metadata": {
                "collapsed": true
            },
            "outputs": [],
            "source": [
                "#Let's start by importing these packages\n",
                "import pandas as pd\n",
                "import math\n",
                "import random\n",
                "import matplotlib.pyplot as plt\n",
                "import numpy as np\n",
                "import seaborn as sns"
            ]
        },
        {
            "cell_type": "markdown",
            "metadata": {},
            "source": [
                "## Random Variables and Statistical Inferences\n",
                "\n",
                "In the first part of this assignment, we will be testing your knowledge of the topics covered in Module 8, such as probability theory, sampling, and the probability distribution function."
            ]
        },
        {
            "cell_type": "markdown",
            "metadata": {},
            "source": [
                "## Probability\n",
                "We will begin this assignment with a review of the concept of probability.\n",
                "Probability seeks to answer the question, \u201cWhat is the chance of an event happening?\u201d An event is some outcome of interest. To calculate the chance of an event happening, we also need to consider all the other events that can occur. Some common examples of basic probability are the study of the outcome of tossing a coin or of rolling a die.\n",
                "\n",
                "\n",
                "Below, we have defined a function `roll_one_die` that simulates the probability of getting a number greater than four when rolling a fair six-faced die."
            ]
        },
        {
            "cell_type": "code",
            "execution_count": null,
            "metadata": {},
            "outputs": [],
            "source": [
                "random.seed(30)\n",
                "\n",
                "def roll_one_die(n_simulations):\n",
                "    count = 0\n",
                "    for i in range(n_simulations):\n",
                "        outcome = random.randint(1,6)\n",
                "        if outcome > 4:\n",
                "            count += 1\n",
                "    probability = count \/ n_simulations\n",
                "    return probability\n",
                "        \n",
                "roll_one_die(100000)"
            ]
        },
        {
            "cell_type": "markdown",
            "metadata": {},
            "source": [
                "[Back to top](#Index:) \n",
                "\n",
                "### Question 1\n",
                "\n",
                "**10 points**\n",
                "\n",
                "Define a function `roll_two_dice` that simulates the probability of getting a total score that is equal to or greater than 7 when rolling two six-sided dice.\n",
                "\n",
                "Your function should take as input the number of throws, and should return the probability. Note that you should call `random.randint()` twice, one per die, since we are rolling both dice per throw. Use the function `random.seed()` to set the random seed to 5 inside the `roll_two_dice` function.\n",
                "\n",
                "Assign the probability of getting a score greater than 7 after 10 throws to `ans1`"
            ]
        },
        {
            "cell_type": "code",
            "execution_count": null,
            "metadata": {
                "collapsed": true
            },
            "outputs": [],
            "source": [
                "### GRADED\n",
                "\n",
                "### YOUR SOLUTION HERE\n",
                "def roll_two_dice(n_simulations):\n",
                "    return\n",
                "\n",
                "###\n",
                "### YOUR CODE HERE\n",
                "###\n"
            ]
        },
        {
            "cell_type": "code",
            "execution_count": null,
            "metadata": {
                "nbgrader": {
                    "grade": true,
                    "grade_id": "Question 01",
                    "locked": true,
                    "points": "10",
                    "solution": false
                },
                "editable": false,
                "deletable": false
            },
            "outputs": [],
            "source": [
                "###\n",
                "### AUTOGRADER TEST - DO NOT REMOVE\n",
                "###\n"
            ]
        },
        {
            "cell_type": "markdown",
            "metadata": {},
            "source": [
                "## The Gamma distribution\n",
                "\n",
                "The Gamma distribution is a two-parameter family of continuous probability distributions, like the normal distribution or the Chi-squared distribution you have seen in the module 8 videos.\n",
                "\n",
                "In this section, we will explore some of the features of the Gamma distribution.\n",
                "\n",
                "[Back to top](#Index:) \n",
                "\n",
                "### Question 2\n",
                "\n",
                "**10 points**\n",
                "\n",
                "Import the function `gamma` from the `scipy.stats` package. \n",
                "\n",
                "Set the parameter `a =1.99`. Use the `gamma.stats` function to compute the mean and the variance of a gamma distrution with `a =1.99`. \n",
                "\n",
                "**HINT:** For this exercise, set the argument `moments` equal to `mv`. You can find more information about this function [here](https:\/\/docs.scipy.org\/doc\/scipy\/reference\/generated\/scipy.stats.gamma.html).\n",
                "\n",
                "Assign the value of the mean to `ans2_a`and the value of the variance to `ans2_b`.\n",
                "\n",
                "Note that Question 2 and Question 3 are connected."
            ]
        },
        {
            "cell_type": "code",
            "execution_count": null,
            "metadata": {
                "collapsed": true
            },
            "outputs": [],
            "source": [
                "### GRADED\n",
                "\n",
                "### YOUR SOLUTION HERE\n",
                "ans2_a = None\n",
                "ans2_b = None\n",
                "\n",
                "\n",
                "###\n",
                "### YOUR CODE HERE\n",
                "###\n"
            ]
        },
        {
            "cell_type": "code",
            "execution_count": null,
            "metadata": {
                "nbgrader": {
                    "grade": true,
                    "grade_id": "Question 02",
                    "locked": true,
                    "points": "10",
                    "solution": false
                },
                "editable": false,
                "deletable": false
            },
            "outputs": [],
            "source": [
                "###\n",
                "### AUTOGRADER TEST - DO NOT REMOVE\n",
                "###\n"
            ]
        },
        {
            "cell_type": "markdown",
            "metadata": {},
            "source": [
                "[Back to top](#Index:) \n",
                "\n",
                "### Question 3\n",
                "\n",
                "**10 points**\n",
                "\n",
                "Generate an array labeled `x` with 200 equally spaced values on the interval [0,100]. Generate data `y` that follows a gamma probability distribution function over `x`  by using the function `gamma.pdf()` from `scipy.stats` with the argument `a=5`. \n",
                "\n",
                "Finally, plot `x` and `y`. Save your figure as `plot2.png` in the `results` folder.\n",
                "\n"
            ]
        },
        {
            "cell_type": "code",
            "execution_count": null,
            "metadata": {
                "collapsed": true
            },
            "outputs": [],
            "source": [
                "### GRADED\n",
                "\n",
                "### YOUR SOLUTION HERE\n",
                "\n",
                "###\n",
                "### YOUR CODE HERE\n",
                "###\n"
            ]
        },
        {
            "cell_type": "code",
            "execution_count": null,
            "metadata": {
                "nbgrader": {
                    "grade": true,
                    "grade_id": "Question 03",
                    "locked": true,
                    "points": "10",
                    "solution": false
                },
                "editable": false,
                "deletable": false
            },
            "outputs": [],
            "source": [
                "###\n",
                "### AUTOGRADER TEST - DO NOT REMOVE\n",
                "###\n"
            ]
        },
        {
            "cell_type": "markdown",
            "metadata": {},
            "source": [
                "## Sampling\n",
                "\n",
                "Sampling can be performed in Python using the built-in `sample()`  function of the `random` module. This function returns partcular items chosen from the sequence like a list, tuple, string or set.\n",
                "\n",
                "[Back to top](#Index:) \n",
                "\n",
                "### Question 4\n",
                "\n",
                "**5 points**\n",
                "\n",
                "Define a list, `list4`, with entries 2,4,6,8,10,12,14,16. Set a random seed equal to 8.\n",
                "\n",
                "Use the function `sample()` to choose three items from `list4`. Assign the result to the list `ans4`."
            ]
        },
        {
            "cell_type": "code",
            "execution_count": null,
            "metadata": {
                "collapsed": true
            },
            "outputs": [],
            "source": [
                "### GRADED\n",
                "\n",
                "### YOUR SOLUTION HERE\n",
                "ans4 = None\n",
                "list4 = None\n",
                "\n",
                "###\n",
                "### YOUR CODE HERE\n",
                "###\n"
            ]
        },
        {
            "cell_type": "code",
            "execution_count": null,
            "metadata": {
                "nbgrader": {
                    "grade": true,
                    "grade_id": "Question 04",
                    "locked": true,
                    "points": "5",
                    "solution": false
                },
                "editable": false,
                "deletable": false
            },
            "outputs": [],
            "source": [
                "###\n",
                "### AUTOGRADER TEST - DO NOT REMOVE\n",
                "###\n"
            ]
        },
        {
            "cell_type": "markdown",
            "metadata": {},
            "source": [
                "## t-distribution\n",
                "\n",
                "The t-distribution is a type of probability distribution that is similar to the normal distribution with a bell shape, but it has heavier tails. T-distributions are more likely to have extreme values than normal distributions, hence the fatter tails.\n",
                "\n",
                "[Back to top](#Index:) \n",
                "\n",
                "### Question 5\n",
                "\n",
                "**10 points**\n",
                "\n",
                "Import `t` from `scipy.stats` to generate a t-distribution with 34 degrees of freedom and save it in the variable `t_dist`. Generate 2000 equally spaced values on the interval [-2, 2] and assign the result to the variable `t_values`. Plot the probability distribution function of your t-distribution over `t_values` and save you figure as `plot5.png` into the folder `results`. \n",
                "\n",
                "Do not specify any other parameters when creating the plot.\n",
                "\n",
                "**Questions 6 and 7 depend on Question 5**\n"
            ]
        },
        {
            "cell_type": "code",
            "execution_count": null,
            "metadata": {
                "collapsed": true
            },
            "outputs": [],
            "source": [
                "### GRADED\n",
                "\n",
                "### YOUR SOLUTION HERE\n",
                "t_dist = None\n",
                " \n",
                "###\n",
                "### YOUR CODE HERE\n",
                "###\n"
            ]
        },
        {
            "cell_type": "code",
            "execution_count": null,
            "metadata": {
                "nbgrader": {
                    "grade": true,
                    "grade_id": "Question 05",
                    "locked": true,
                    "points": "10",
                    "solution": false
                },
                "editable": false,
                "deletable": false
            },
            "outputs": [],
            "source": [
                "###\n",
                "### AUTOGRADER TEST - DO NOT REMOVE\n",
                "###\n"
            ]
        },
        {
            "cell_type": "markdown",
            "metadata": {},
            "source": [
                "[Back to top](#Index:) \n",
                "\n",
                "### Question 6\n",
                "\n",
                "**5 points**\n",
                "\n",
                "Based on the t-distribution created in Question 5, what is the area of the probability distribution function at and to the left of 0.8?\n",
                "\n",
                "**HINT:** Use the function `.cdf()`.\n",
                "\n",
                "Assign your result to `ans6`."
            ]
        },
        {
            "cell_type": "code",
            "execution_count": null,
            "metadata": {
                "collapsed": true
            },
            "outputs": [],
            "source": [
                "### GRADED\n",
                "\n",
                "### YOUR SOLUTION HERE\n",
                "ans6 = None\n",
                " \n",
                "###\n",
                "### YOUR CODE HERE\n",
                "###\n"
            ]
        },
        {
            "cell_type": "code",
            "execution_count": null,
            "metadata": {
                "nbgrader": {
                    "grade": true,
                    "grade_id": "Question 06",
                    "locked": true,
                    "points": "5",
                    "solution": false
                },
                "editable": false,
                "deletable": false
            },
            "outputs": [],
            "source": [
                "###\n",
                "### AUTOGRADER TEST - DO NOT REMOVE\n",
                "###\n"
            ]
        },
        {
            "cell_type": "markdown",
            "metadata": {},
            "source": [
                "[Back to top](#Index:) \n",
                "\n",
                "### Question 7\n",
                "\n",
                "**5 points**\n",
                "\n",
                "Based on the t-distribution created in Question 5, what is the probability density at -0.4?\n",
                "\n",
                "**HINT:** Use the function `.pdf()`.\n",
                "\n",
                "Assign your result to `ans7`."
            ]
        },
        {
            "cell_type": "code",
            "execution_count": null,
            "metadata": {
                "collapsed": true
            },
            "outputs": [],
            "source": [
                "###GRADED\n",
                "\n",
                "### YOUR SOLUTION HERE\n",
                "ans7 = None\n",
                " \n",
                "###\n",
                "### YOUR CODE HERE\n",
                "###\n"
            ]
        },
        {
            "cell_type": "code",
            "execution_count": null,
            "metadata": {
                "nbgrader": {
                    "grade": true,
                    "grade_id": "Question 07",
                    "locked": true,
                    "points": "5",
                    "solution": false
                },
                "editable": false,
                "deletable": false
            },
            "outputs": [],
            "source": [
                "###\n",
                "### AUTOGRADER TEST - DO NOT REMOVE\n",
                "###\n"
            ]
        },
        {
            "cell_type": "markdown",
            "metadata": {},
            "source": [
                "##  Statistical Distributions and Hypothesis Testing\n",
                "\n",
                "\n",
                "In the second part of this assignment we will review some of the concepts that you have learned in Module 9. We will work with discrete and continuous distributions and learn a convenient way to compute confidence intervals and other statistical information for a dataframe.\n"
            ]
        },
        {
            "cell_type": "markdown",
            "metadata": {},
            "source": [
                "## Discrete distributions\n",
                "\n",
                "[Back to top](#Index:) \n",
                "\n",
                "### Question 8\n",
                "\n",
                "**5 points**\n",
                "\n",
                "Which one(s) of the option below define a discrete functions?\n",
                "    \n",
                "- a. Chi-squared distribution\n",
                "- b. Bernouilli distribution\n",
                "- c. Binomial distribution\n",
                "- d. Gaussian distribution\n",
                "\n",
                "Assign the character(s) corresponding to your answer as strings to the list `ans8`."
            ]
        },
        {
            "cell_type": "code",
            "execution_count": null,
            "metadata": {
                "collapsed": true
            },
            "outputs": [],
            "source": [
                "### GRADED\n",
                "\n",
                "### YOUR SOLUTION HERE\n",
                "ans8 = None\n",
                " \n",
                "###\n",
                "### YOUR CODE HERE\n",
                "###\n"
            ]
        },
        {
            "cell_type": "code",
            "execution_count": null,
            "metadata": {
                "nbgrader": {
                    "grade": true,
                    "grade_id": "Question 08",
                    "locked": true,
                    "points": "5",
                    "solution": false
                },
                "editable": false,
                "deletable": false
            },
            "outputs": [],
            "source": [
                "###\n",
                "### AUTOGRADER TEST - DO NOT REMOVE\n",
                "###\n"
            ]
        },
        {
            "cell_type": "markdown",
            "metadata": {},
            "source": [
                "A distribution where only two outcomes are possible (such as success or failure, gain or loss) and where the probability of success and failure is same for all the trials is called a **Binomial Distribution**. \n",
                "\n",
                "In the code cell below, we have generated a plotted a binomial distribution."
            ]
        },
        {
            "cell_type": "code",
            "execution_count": null,
            "metadata": {},
            "outputs": [],
            "source": [
                "from scipy.stats import binom\n",
                "data_binom = binom.rvs(n=10,p=0.8,size=10000, random_state = 10)\n",
                "ax = sns.distplot(data_binom,kde=False,color='green', hist_kws={\"linewidth\": 30,'alpha':1})\n",
                "ax.set(xlabel='Binomial Distribution', ylabel='Frequency')\n",
                "plt.show()"
            ]
        },
        {
            "cell_type": "markdown",
            "metadata": {},
            "source": [
                "[Back to top](#Index:) \n",
                "\n",
                "### Question 9\n",
                "\n",
                "**5 points**\n",
                "\n",
                "Observe tbe code above and compute the mean of the binomial distribution defined above. Assign the result to `ans9`."
            ]
        },
        {
            "cell_type": "code",
            "execution_count": null,
            "metadata": {
                "collapsed": true
            },
            "outputs": [],
            "source": [
                "### GRADED\n",
                "\n",
                "### YOUR SOLUTION HERE\n",
                "ans9 = None\n",
                " \n",
                "###\n",
                "### YOUR CODE HERE\n",
                "###\n"
            ]
        },
        {
            "cell_type": "code",
            "execution_count": null,
            "metadata": {
                "nbgrader": {
                    "grade": true,
                    "grade_id": "Question 09",
                    "locked": true,
                    "points": "5",
                    "solution": false
                },
                "editable": false,
                "deletable": false
            },
            "outputs": [],
            "source": [
                "###\n",
                "### AUTOGRADER TEST - DO NOT REMOVE\n",
                "###\n"
            ]
        },
        {
            "cell_type": "markdown",
            "metadata": {},
            "source": [
                "## Confidence intervals\n",
                "\n",
                "A confidence interval is an interval that contains the unknown parameter (such as the population mean $\\mu$) with certain degree of confidence.\n",
                "\n",
                "In this section, we will look into a convient way to compute the confidence interval in a dataframe."
            ]
        },
        {
            "cell_type": "markdown",
            "metadata": {},
            "source": [
                "[Back to top](#Index:) \n",
                "\n",
                "### Question 10\n",
                "\n",
                "**10 points**\n",
                "\n",
                "Below, we define a toy dataframe and we visualize it. Use the function `groupby()` on the column \"Model\" in the dataframe `df` followed by the function `.agg()` to compute the mean, the count, and the standard deviation of the column \"Power\". Assign the result to the dataframe `results`.\n",
                "\n",
                "**HINT:** Information about the function `.agg()` can be found [here](https:\/\/pandas.pydata.org\/pandas-docs\/stable\/reference\/api\/pandas.DataFrame.agg.html).\n",
                "\n",
                "**Question 11 is dependent on Question 10**"
            ]
        },
        {
            "cell_type": "code",
            "execution_count": null,
            "metadata": {},
            "outputs": [],
            "source": [
                "df = pd.DataFrame({'Model': ['A1','A1','A1','A2','A3','A3'], \n",
                "                   'Power': [50,150,100,120,140,160] })\n",
                "df"
            ]
        },
        {
            "cell_type": "code",
            "execution_count": null,
            "metadata": {
                "collapsed": true
            },
            "outputs": [],
            "source": [
                "### GRADED\n",
                "\n",
                "### YOUR SOLUTION HERE\n",
                "results = None\n",
                " \n",
                "###\n",
                "### YOUR CODE HERE\n",
                "###\n"
            ]
        },
        {
            "cell_type": "code",
            "execution_count": null,
            "metadata": {
                "nbgrader": {
                    "grade": true,
                    "grade_id": "Question 10",
                    "locked": true,
                    "points": "10",
                    "solution": false
                },
                "editable": false,
                "deletable": false
            },
            "outputs": [],
            "source": [
                "###\n",
                "### AUTOGRADER TEST - DO NOT REMOVE\n",
                "###\n"
            ]
        },
        {
            "cell_type": "markdown",
            "metadata": {},
            "source": [
                "[Back to top](#Index:) \n",
                "\n",
                "### Question 11\n",
                "\n",
                "**10 points**\n",
                "\n",
                "Define two empty lists, `ci95_hi` and `ci95_lo`.\n",
                "\n",
                "Complete the for loop below to append the upper and lower bounds on the confidence interval into the lists  `ci95_hi` and `ci95_lo`, respectively.\n",
                "\n",
                "```Python\n",
                "for i in results.index:\n",
                "    m, c, s = results.loc[i]\n",
                "    #complete from here..\n",
                "````\n",
                "\n",
                "**HINTS:** \n",
                "- The formula for the upper bound of the confidence interval for the mean $m$  with standard deviation $s$ and count $c$ is : $$\\text{upper_bound} = m+ \\frac{1.96*s}{\\sqrt{c}}$$\n",
                "\n",
                "- The formula for the lower bound of the confidence interval for the mean $m$  with standard deviation $s$ and count $c$ is : $$\\text{lower_bound} = m- \\frac{1.96*s}{\\sqrt{c}}$$\n",
                "\n",
                "Finally, add `ci95_hi` and `ci95_lo` to the dataframe `results`, in that order, and name these new columns \"ci95_hi\" and \"ci95_lo\", respectively."
            ]
        },
        {
            "cell_type": "code",
            "execution_count": null,
            "metadata": {
                "collapsed": true
            },
            "outputs": [],
            "source": [
                "### GRADED\n",
                "\n",
                "### YOUR SOLUTION HERE\n",
                "ci95_hi = None\n",
                "ci95_lo = None\n",
                " \n",
                "###\n",
                "### YOUR CODE HERE\n",
                "###\n"
            ]
        },
        {
            "cell_type": "code",
            "execution_count": null,
            "metadata": {
                "nbgrader": {
                    "grade": true,
                    "grade_id": "Question 11",
                    "locked": true,
                    "points": "11",
                    "solution": false
                },
                "editable": false,
                "deletable": false
            },
            "outputs": [],
            "source": [
                "###\n",
                "### AUTOGRADER TEST - DO NOT REMOVE\n",
                "###\n"
            ]
        }
    ],
    "metadata": {
        "kernelspec": {
            "display_name": "Python 3 [3.7]",
            "language": "python",
            "name": "python3"
        },
        "language_info": {
            "codemirror_mode": {
                "name": "ipython",
                "version": 3
            },
            "file_extension": ".py",
            "mimetype": "text\/x-python",
            "name": "python",
            "nbconvert_exporter": "python",
            "pygments_lexer": "ipython3",
            "version": "3.7.5"
        }
    },
    "nbformat": 4,
    "nbformat_minor": 4
}