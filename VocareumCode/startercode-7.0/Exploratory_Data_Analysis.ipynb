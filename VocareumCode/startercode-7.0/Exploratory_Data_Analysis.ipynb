{
    "cells": [
        {
            "cell_type": "markdown",
            "metadata": {},
            "source": [
                "# Exploratory Data Analysis\n",
                "\n",
                "**_Author: Jessica Cervi_**\n",
                "\n",
                "**Expected time = 2 hrs**\n",
                "\n",
                "**Total points = 70 points**"
            ]
        },
        {
            "cell_type": "markdown",
            "metadata": {},
            "source": [
                "    \n",
                "## Assignment Overview\n",
                "\n",
                "\n",
                "In this assignment you will perform exploratory data analysis on a dataset from the travel industry.  You will explore different ways of visualizing the data to better understand relationships between variables. You'll examine the descriptive statistics and plots to draw new insights. \n",
                "\n",
                "\n",
                "This assignment is designed to build your familiarity and comfort coding in Python while also helping you review key topics from each module. As you progress through the assignment, answers will get increasingly complex. It is important that you adopt a data scientist's mindset when completing this assignment. **Remember to run your code from each cell before submitting your assignment.** Running your code beforehand will notify you of errors and give you a chance to fix your errors before submitting. You should view your Vocareum submission as if you are delivering a final project to your manager or client. \n",
                "\n",
                "***Vocareum Tips***\n",
                "- Do not add arguments or options to functions unless you are specifically asked to. This will cause an error in Vocareum.\n",
                "- Do not use a library unless you are expicitly asked to in the question. \n",
                "- You can download the Grading Report after submitting the assignment. This will include feedback and hints on incorrect questions. \n",
                "\n",
                "\n",
                "### Learning Objectives\n",
                "\n",
                "- Visualize data with matplotlib and probe for insights. \n",
                "- Use exploratory data analysis to describe data. \n",
                "\n",
                "\n",
                "**IMPORTANT INSTRUCTIONS:** \n",
                "\n",
                "- To be able to test for this module, you will be asked to save your figures as PNG into a folder called \"results\". Please don't change the name we ask you to give to the plots so you are able to get all the points in every question.\n",
                "- Don't add any customization you're not asked to in the plots."
            ]
        },
        {
            "cell_type": "markdown",
            "metadata": {},
            "source": [
                "## Index:\n",
                "\n",
                "\n",
                "#### Exploratory Data Analysis\n",
                "\n",
                "- [Question 1](#Question-1)\n",
                "- [Question 2](#Question-2)\n",
                "- [Question 3](#Question-3)\n",
                "- [Question 4](#Question-4)\n",
                "- [Question 5](#Question-5)\n",
                "- [Question 6](#Question-6)\n",
                "- [Question 7](#Question-7)\n",
                "- [Question 8](#Question-8)\n",
                "- [Question 9](#Question-9)\n",
                "- [Question 10](#Question-10)"
            ]
        },
        {
            "cell_type": "markdown",
            "metadata": {},
            "source": [
                "## Exploratory Data Analysis\n",
                "\n",
                "In this assignment you will work with the `pandas` concepts you learned in Module 11 to examine a dataset from the travel industry and visualize relationships between variables. You will begin by familiarzing yourself with the columns of the dataset, then explore their relationships. \n",
                "\n",
                "\n",
                "### Inspecting your Data\n",
                "\n",
                "The dataset that we will be using in this assignment contains booking information for a city hotel and a resort hotel, and includes information such as when the booking was made, length of stay, the number of adults, children, and\/or babies, and the number of available parking spaces, among other things. More detailed information about the dataset can be found [here](https:\/\/www.kaggle.com\/jessemostipak\/hotel-booking-demand).\n"
            ]
        },
        {
            "cell_type": "markdown",
            "metadata": {},
            "source": [
                "We will begin by importing the necessary libraries for this assignment and by reading the dataset."
            ]
        },
        {
            "cell_type": "code",
            "execution_count": null,
            "metadata": {
                "collapsed": true
            },
            "outputs": [],
            "source": [
                "import pandas as pd\n",
                "import numpy as np\n",
                "import matplotlib.pyplot as plt\n",
                "from sklearn import datasets\n",
                "import scipy.stats as sp\n",
                "import seaborn as sns\n",
                "\n",
                "# Avoid warnings\n",
                "import warnings\n",
                "warnings.filterwarnings(\"ignore\")\n",
                "\n",
                "df = pd.read_csv(\".\/data\/hotel_bookings.csv\")"
            ]
        },
        {
            "cell_type": "markdown",
            "metadata": {},
            "source": [
                "For convenience, we will use the command `.head()` to visualize the first 10 rows of our DataFrame"
            ]
        },
        {
            "cell_type": "code",
            "execution_count": null,
            "metadata": {},
            "outputs": [],
            "source": [
                "df.head(10)"
            ]
        },
        {
            "cell_type": "code",
            "execution_count": null,
            "metadata": {},
            "outputs": [],
            "source": [
                "df.describe()"
            ]
        },
        {
            "cell_type": "markdown",
            "metadata": {},
            "source": [
                "[Back to top](#Index:) \n",
                "\n",
                "\n",
                "### Question 1\n",
                "*5 points*\n",
                "\n",
                "\n",
                "We'll begin by exploring the arrival dates, to see when people begin a trip. \n",
                "Use `.value_counts()` on the column `arrival_date_year`. Assign the result to `ans1`."
            ]
        },
        {
            "cell_type": "code",
            "execution_count": null,
            "metadata": {
                "collapsed": true
            },
            "outputs": [],
            "source": [
                "### GRADED\n",
                "\n",
                "### YOUR SOLUTION HERE\n",
                "ans1 = None \n",
                "\n",
                "###\n",
                "### YOUR CODE HERE\n",
                "###\n"
            ]
        },
        {
            "cell_type": "code",
            "execution_count": null,
            "metadata": {
                "nbgrader": {
                    "grade": true,
                    "grade_id": "Question 01",
                    "locked": true,
                    "points": "5",
                    "solution": false
                },
                "editable": false,
                "deletable": false
            },
            "outputs": [],
            "source": [
                "###\n",
                "### AUTOGRADER TEST - DO NOT REMOVE\n",
                "###\n"
            ]
        },
        {
            "cell_type": "markdown",
            "metadata": {},
            "source": [
                "[Back to top](#Index:) \n",
                "\n",
                "### Question 2\n",
                "    \n",
                "*5 points*\n",
                "\n",
                "What data type the attribute `.value_counts()` return? \n",
                "- a) A list\n",
                "- b) A series\n",
                "- c) A DataFrame.\n",
                "- d) An object\n",
                "\n",
                "Assign the character corresponding to your choice as a string to `ans2`."
            ]
        },
        {
            "cell_type": "code",
            "execution_count": null,
            "metadata": {
                "collapsed": true
            },
            "outputs": [],
            "source": [
                "### GRADED\n",
                "\n",
                "### YOUR SOLUTION HERE\n",
                "ans2 = None \n",
                "\n",
                "###\n",
                "### YOUR CODE HERE\n",
                "###\n"
            ]
        },
        {
            "cell_type": "code",
            "execution_count": null,
            "metadata": {
                "nbgrader": {
                    "grade": true,
                    "grade_id": "Question 02",
                    "locked": true,
                    "points": "5",
                    "solution": false
                },
                "editable": false,
                "deletable": false
            },
            "outputs": [],
            "source": [
                "###\n",
                "### AUTOGRADER TEST - DO NOT REMOVE\n",
                "###\n"
            ]
        },
        {
            "cell_type": "markdown",
            "metadata": {},
            "source": [
                "[Back to top](#Index:) \n",
                "\n",
                "### Question 3\n",
                "    \n",
                "*5 points*\n",
                "\n",
                "Next, we will examine the lead time. How far in advance do people book travel? \n",
                "We can compute this with the median of the column `lead_time` by ignoring the NaN values. Assign the result to `ans3`."
            ]
        },
        {
            "cell_type": "code",
            "execution_count": null,
            "metadata": {
                "collapsed": true
            },
            "outputs": [],
            "source": [
                "### GRADED\n",
                "\n",
                "### YOUR SOLUTION HERE\n",
                "ans3 = None \n",
                "\n",
                "###\n",
                "### YOUR CODE HERE\n",
                "###\n"
            ]
        },
        {
            "cell_type": "code",
            "execution_count": null,
            "metadata": {
                "nbgrader": {
                    "grade": true,
                    "grade_id": "Question 03",
                    "locked": true,
                    "points": "5",
                    "solution": false
                },
                "editable": false,
                "deletable": false
            },
            "outputs": [],
            "source": [
                "###\n",
                "### AUTOGRADER TEST - DO NOT REMOVE\n",
                "###\n"
            ]
        },
        {
            "cell_type": "markdown",
            "metadata": {},
            "source": [
                "[Back to top](#Index:) \n",
                "\n",
                "### Question 4\n",
                "    \n",
                "*10 points*\n",
                "\n",
                "Now, we will create a heatmap which will help us explore relationships between the different variables, or columns, in the travel dataset. What relationships have we missed? This process will help us find out.\n",
                "\n",
                "To begin, use `.figsize()` to set the figure size to `(15,15)`.\n",
                "Next, produce a heatmap with the correlation between the different columns of `df`. Specify the parameter `annot= True`. DO NOT specify any other parameter. Save your plot as a png with the name \"plot4.png\" in the folder \"results\"."
            ]
        },
        {
            "cell_type": "code",
            "execution_count": null,
            "metadata": {
                "collapsed": true
            },
            "outputs": [],
            "source": [
                "### GRADED\n",
                "\n",
                "### YOUR SOLUTION HERE\n",
                "\n",
                "###\n",
                "### YOUR CODE HERE\n",
                "###\n"
            ]
        },
        {
            "cell_type": "code",
            "execution_count": null,
            "metadata": {
                "nbgrader": {
                    "grade": true,
                    "grade_id": "Question 04",
                    "locked": true,
                    "points": "10",
                    "solution": false
                },
                "editable": false,
                "deletable": false
            },
            "outputs": [],
            "source": [
                "###\n",
                "### AUTOGRADER TEST - DO NOT REMOVE\n",
                "###\n"
            ]
        },
        {
            "cell_type": "markdown",
            "metadata": {},
            "source": [
                "[Back to top](#Index:) \n",
                "\n",
                "### Question 5\n",
                "    \n",
                "*5 points*\n",
                "\n",
                "The hotel wants to know how many parking spaces to be filled with the number of adults booking rooms. We will use feature engineering to create a new measure by dividing `adults` by `required_car_parking_spaces`.\n",
                "\n",
                "Assign the result of this to a new column created in `df` called `parking_spaces_per_adult`."
            ]
        },
        {
            "cell_type": "code",
            "execution_count": null,
            "metadata": {
                "collapsed": true
            },
            "outputs": [],
            "source": [
                "### GRADED\n",
                "\n",
                "### YOUR SOLUTION HERE\n",
                "df['parking_spaces_per_adult'] = None \n",
                "\n",
                "###\n",
                "### YOUR CODE HERE\n",
                "###\n"
            ]
        },
        {
            "cell_type": "code",
            "execution_count": null,
            "metadata": {
                "nbgrader": {
                    "grade": true,
                    "grade_id": "Question 05",
                    "locked": true,
                    "points": "5",
                    "solution": false
                },
                "editable": false,
                "deletable": false
            },
            "outputs": [],
            "source": [
                "###\n",
                "### AUTOGRADER TEST - DO NOT REMOVE\n",
                "###\n"
            ]
        },
        {
            "cell_type": "markdown",
            "metadata": {},
            "source": [
                "[Back to top](#Index:) \n",
                "\n",
                "### Question 6\n",
                "    \n",
                "*10 points*\n",
                "\n",
                "Next, we'll examine the habits of travelers. Are people more likely to stay in on week nights or weekend nights?\n",
                "\n",
                "Produce a jointplot that compares the relationship between `stays_in_week_nights` and `stays_in_weekend_nights`of `df`. DO NOT specify any parameter. Save your plot as a png with the name \"plot6.png\" in the folder \"results\"."
            ]
        },
        {
            "cell_type": "code",
            "execution_count": null,
            "metadata": {
                "collapsed": true
            },
            "outputs": [],
            "source": [
                "### GRADED\n",
                "\n",
                "### YOUR SOLUTION HERE\n",
                "\n",
                "###\n",
                "### YOUR CODE HERE\n",
                "###\n"
            ]
        },
        {
            "cell_type": "code",
            "execution_count": null,
            "metadata": {
                "nbgrader": {
                    "grade": true,
                    "grade_id": "Question 06",
                    "locked": true,
                    "points": "10",
                    "solution": false
                },
                "editable": false,
                "deletable": false
            },
            "outputs": [],
            "source": [
                "###\n",
                "### AUTOGRADER TEST - DO NOT REMOVE\n",
                "###\n"
            ]
        },
        {
            "cell_type": "markdown",
            "metadata": {},
            "source": [
                "[Back to top](#Index:) \n",
                "\n",
                "### Question 7\n",
                "    \n",
                "*5 points*\n",
                "\n",
                "Let's take a closer look at the graph you created to examine travelers who stay in on week nights versus weekend nights. \n",
                "\n",
                "From the graph produced in question 6, what can you say about the relationship between `stays_in_week_nights` and `stays_in_weekend_nights`?\n",
                "\n",
                "- a) The two variables have a correlation value close to one (high correlation)\n",
                "- b) The two variables are not correlated with a value close to zero\n",
                "- c) The two variables have a correlation value close to -0.5\n",
                "- d) None of the above\n",
                "\n",
                "\n",
                "Assign the character corresponding to your choice as a string to `ans7`."
            ]
        },
        {
            "cell_type": "code",
            "execution_count": null,
            "metadata": {
                "collapsed": true
            },
            "outputs": [],
            "source": [
                "### GRADED\n",
                "\n",
                "### YOUR SOLUTION HERE\n",
                "ans7 = None \n",
                "\n",
                "###\n",
                "### YOUR CODE HERE\n",
                "###\n"
            ]
        },
        {
            "cell_type": "code",
            "execution_count": null,
            "metadata": {
                "nbgrader": {
                    "grade": true,
                    "grade_id": "Question 07",
                    "locked": true,
                    "points": "5",
                    "solution": false
                },
                "editable": false,
                "deletable": false
            },
            "outputs": [],
            "source": [
                "###\n",
                "### AUTOGRADER TEST - DO NOT REMOVE\n",
                "###\n"
            ]
        },
        {
            "cell_type": "markdown",
            "metadata": {},
            "source": [
                "[Back to top](#Index:) \n",
                "\n",
                "### Question 8\n",
                "    \n",
                "*10 points*\n",
                "\n",
                "Could the size of the group impact whether travelers are likely to stay in on weekend nights? Let's explore this. \n",
                " \n",
                "To begin, use `.figsize()` to set the figure size to `(5,5)`. Next, produce a boxplot that compares the relationship between `adults` and `stays_in_weekend_nights`of `df` and set the x limits equal to `(-1,5)`. Save your plot as a png with the name \"plot8.png\" in the folder \"results\"."
            ]
        },
        {
            "cell_type": "code",
            "execution_count": null,
            "metadata": {
                "collapsed": true
            },
            "outputs": [],
            "source": [
                "### GRADED\n",
                "\n",
                "### YOUR SOLUTION HERE\n",
                "\n",
                "###\n",
                "### YOUR CODE HERE\n",
                "###\n"
            ]
        },
        {
            "cell_type": "code",
            "execution_count": null,
            "metadata": {
                "nbgrader": {
                    "grade": true,
                    "grade_id": "Question 08",
                    "locked": true,
                    "points": "10",
                    "solution": false
                },
                "editable": false,
                "deletable": false
            },
            "outputs": [],
            "source": [
                "###\n",
                "### AUTOGRADER TEST - DO NOT REMOVE\n",
                "###\n"
            ]
        },
        {
            "cell_type": "markdown",
            "metadata": {},
            "source": [
                "[Back to top](#Index:) \n",
                "\n",
                "### Question 9\n",
                "    \n",
                "*10 points*\n",
                "\n",
                "Next, we want to examine the reservation date more closely. We will split the entries of this column into three new columns to see the year, month, and day. \n",
                " \n",
                "Using the appropriate string method, split the column `reservation_status_date` at every occurrence of \u201c-\u201d. Next, add three new columns to `df`: `year`, `month` and `day`."
            ]
        },
        {
            "cell_type": "code",
            "execution_count": null,
            "metadata": {
                "collapsed": true
            },
            "outputs": [],
            "source": [
                "### GRADED\n",
                "\n",
                "### YOUR SOLUTION HERE \n",
                "year = None \n",
                "month = None\n",
                "day = None\n",
                "\n",
                "###\n",
                "### YOUR CODE HERE\n",
                "###\n"
            ]
        },
        {
            "cell_type": "code",
            "execution_count": null,
            "metadata": {
                "nbgrader": {
                    "grade": true,
                    "grade_id": "Question 09",
                    "locked": true,
                    "points": "10",
                    "solution": false
                },
                "editable": false,
                "deletable": false
            },
            "outputs": [],
            "source": [
                "###\n",
                "### AUTOGRADER TEST - DO NOT REMOVE\n",
                "###\n"
            ]
        },
        {
            "cell_type": "markdown",
            "metadata": {},
            "source": [
                "[Back to top](#Index:) \n",
                "\n",
                "### Question 10\n",
                "    \n",
                "*5 points*\n",
                "\n",
                "To conclude, we will examine requests for required car parking spaces. Does a traveler need a parking space, yes or no?\n",
                "\n",
                "Use hot encoding to create dummy categorical variables for modeling on the column `required_car_parking_spaces`. Make sure you drop the first level by using `drop_first= True`. Save this to a new DataFrame called `df1`."
            ]
        },
        {
            "cell_type": "code",
            "execution_count": null,
            "metadata": {
                "collapsed": true
            },
            "outputs": [],
            "source": [
                "### GRADED\n",
                "\n",
                "### YOUR SOLUTION HERE\n",
                "df1 = None\n",
                "\n",
                "###\n",
                "### YOUR CODE HERE\n",
                "###\n"
            ]
        },
        {
            "cell_type": "code",
            "execution_count": null,
            "metadata": {
                "nbgrader": {
                    "grade": true,
                    "grade_id": "Question 10",
                    "locked": true,
                    "points": "5",
                    "solution": false
                },
                "editable": false,
                "deletable": false
            },
            "outputs": [],
            "source": [
                "###\n",
                "### AUTOGRADER TEST - DO NOT REMOVE\n",
                "###\n"
            ]
        }
    ],
    "metadata": {
        "kernelspec": {
            "display_name": "Python 3 [3.7]",
            "language": "python",
            "name": "python3"
        },
        "language_info": {
            "codemirror_mode": {
                "name": "ipython",
                "version": 3
            },
            "file_extension": ".py",
            "mimetype": "text\/x-python",
            "name": "python",
            "nbconvert_exporter": "python",
            "pygments_lexer": "ipython3",
            "version": "3.7.5"
        }
    },
    "nbformat": 4,
    "nbformat_minor": 4
}