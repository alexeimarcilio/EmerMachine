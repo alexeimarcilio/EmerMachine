{
    "cells": [
        {
            "cell_type": "markdown",
            "metadata": {
                "nbgrader": {
                    "grade": false,
                    "locked": true,
                    "solution": false
                },
                "editable": false,
                "deletable": false
            },
            "source": [
                "# Data Manipulation and Analysis with Pandas\n",
                "\n",
                "**_Author: Favio V\u00e1zquez_**\n",
                "\n",
                "**_Reviewer: Jessica Cervi_**\n",
                "\n",
                "**Expected time = 3 hrs**\n",
                "\n",
                "**Total points = 110 points**\n"
            ]
        },
        {
            "cell_type": "markdown",
            "metadata": {
                "nbgrader": {
                    "grade": false,
                    "locked": true,
                    "solution": false
                },
                "editable": false,
                "deletable": false
            },
            "source": [
                "## Assignment Overview\n",
                "\n",
                "In this assignment you will manipulate and analyze data with Pandas. You will begin by reviewing how to read data into a series or dataframe, then you will use additional functionalities of Pandas objects. After that, you will index, select and edit data inside dataframes. In the final parts of the assignment you will be combining, grouping and aggregating dataframes.\n",
                "\n",
                "This assignment is designed to build your familiarity and comfort coding in Python while also helping you review key topics from each module. As you progress through the assignment, answers will get increasingly complex. It is important that you adopt a data scientist's mindset when completing this assignment. **Remember to run your code from each cell before submitting your assignment.** Running your code beforehand will notify you of errors and give you a chance to fix your errors before submitting. You should view your Vocareum submission as if you are delivering a final project to your manager or client. \n",
                "\n",
                "***Vocareum Tips***\n",
                "- Do not add arguments or options to functions unless you are specifically asked to. This will cause an error in Vocareum.\n",
                "- Do not use a library unless you are explicitly asked to in the question. \n",
                "- You can download the Grading Report after submitting the assignment. This will include feedback and hints on incorrect questions.\n",
                "\n",
                "\n",
                "### Learning Objectives\n",
                "\n",
                "- Use Pandas to build, extract, filter, and transform DataFrames.\n",
                "- Describe Pandas data structures: DataFrames and Series.  \n",
                "- Use Pandas objects for analyses. "
            ]
        },
        {
            "cell_type": "markdown",
            "metadata": {
                "nbgrader": {
                    "grade": false,
                    "locked": true,
                    "solution": false
                },
                "editable": false,
                "deletable": false
            },
            "source": [
                "## Index:\n",
                "\n",
                "#### Data Manipulation and Analysis with Pandas\n",
                "\n",
                "- [Question 1](#Question-1)\n",
                "- [Question 2](#Question-2)\n",
                "- [Question 3](#Question-3)\n",
                "- [Question 4](#Question-4)\n",
                "- [Question 5](#Question-5)\n",
                "- [Question 6](#Question-6)\n",
                "- [Question 7](#Question-7)\n",
                "- [Question 8](#Question-8)\n",
                "- [Question 9](#Question-9)\n",
                "- [Question 10](#Question-10)\n",
                "- [Question 11](#Question-11)\n",
                "- [Question 12](#Question-12)\n",
                "- [Question 13](#Question-13)\n",
                "- [Question 14](#Question-14)"
            ]
        },
        {
            "cell_type": "markdown",
            "metadata": {},
            "source": [
                "## Data Manipulation and Analysis with Pandas"
            ]
        },
        {
            "cell_type": "code",
            "execution_count": null,
            "metadata": {
                "collapsed": true,
                "nbgrader": {
                    "grade": false,
                    "locked": true,
                    "solution": false
                },
                "editable": false,
                "deletable": false
            },
            "outputs": [],
            "source": [
                "# Let's start by importing Pandas\n",
                "import pandas as pd\n",
                "\n",
                "# Avoid warnings\n",
                "import warnings\n",
                "warnings.filterwarnings(\"ignore\")"
            ]
        },
        {
            "cell_type": "markdown",
            "metadata": {
                "nbgrader": {
                    "grade": false,
                    "locked": true,
                    "solution": false
                },
                "editable": false,
                "deletable": false
            },
            "source": [
                "### Importing data\n",
                "\n",
                "We will begin this assignment with a review of how to import data with Pandas. For several parts of this assignment we will be using two datasets coming from the past 120 years of Olympic history: athletes and results. This dataset is saved inside the folder `\/data`; more information about this dataset can be found on Kaggle at this link:\n",
                "\n",
                "https:\/\/www.kaggle.com\/heesoo37\/120-years-of-olympic-history-athletes-and-results\n",
                "\n",
                "This is a historical dataset on the modern Olympic Games, including all the Games from Athens 1896 to Rio 2016. \n",
                "\n",
                "The file `athlete_events.csv` contains 271116 rows and 15 columns. Each row corresponds to an individual athlete competing in an individual Olympic event (athlete-events). The columns are:\n",
                "\n",
                "- ID - Unique number for each athlete\n",
                "- Name - Athlete's name\n",
                "- Sex - M or F\n",
                "- Age - Athlete's age\n",
                "- Height - In centimeters\n",
                "- Weight - In kilograms\n",
                "- Team - Team name\n",
                "- NOC - National Olympic Committee 3-letter code\n",
                "- Games - Year and season\n",
                "- Year - Year of game\n",
                "- Season - Summer or Winter\n",
                "- City - Host city\n",
                "- Sport - Sport\n",
                "- Event - Event\n",
                "- Medal - Gold, Silver, Bronze, or NA\n",
                "\n",
                "The file `noc_regions.csv` contains 230 rows and 3 columns. Each row contains information about the different National Olympic Committee (NOC). The columns are:\n",
                "\n",
                "- NOC - National Olympic Committee abreviation\n",
                "- region - Name of country in NOC\n",
                "- notes - Notes about the region and NOC\n",
                "\n",
                "\n",
                "[Back to top](#Index:) "
            ]
        },
        {
            "cell_type": "markdown",
            "metadata": {
                "nbgrader": {
                    "grade": false,
                    "locked": true,
                    "solution": false
                },
                "editable": false,
                "deletable": false
            },
            "source": [
                "### Question 1\n",
                "*5 points*\n",
                "\n",
                "Read the CSV file named `\"athlete_events.csv\"` contained in the `data\/` folder and assign it to a dataframe called `df`."
            ]
        },
        {
            "cell_type": "code",
            "execution_count": null,
            "metadata": {
                "collapsed": true
            },
            "outputs": [],
            "source": [
                "### GRADED\n",
                "\n",
                "### YOUR SOLUTION HERE\n",
                "df = None\n",
                "\n",
                "###\n",
                "### YOUR CODE HERE\n",
                "###\n"
            ]
        },
        {
            "cell_type": "code",
            "execution_count": null,
            "metadata": {
                "nbgrader": {
                    "grade": true,
                    "grade_id": "Question 01",
                    "locked": true,
                    "points": "5",
                    "solution": false
                },
                "editable": false,
                "deletable": false
            },
            "outputs": [],
            "source": [
                "###\n",
                "### AUTOGRADER TEST - DO NOT REMOVE\n",
                "###\n"
            ]
        },
        {
            "cell_type": "code",
            "execution_count": null,
            "metadata": {
                "nbgrader": {
                    "grade": false,
                    "locked": true,
                    "solution": false
                },
                "editable": false,
                "deletable": false
            },
            "outputs": [],
            "source": [
                "# Let's take a look at our dataframe df\n",
                "df.head()"
            ]
        },
        {
            "cell_type": "code",
            "execution_count": null,
            "metadata": {
                "nbgrader": {
                    "grade": false,
                    "locked": true,
                    "solution": false
                },
                "editable": false,
                "deletable": false
            },
            "outputs": [],
            "source": [
                "# Let's see the shape of out dataframe df\n",
                "print(\"Number of rows: {}, number of columns: {}\".format(df.shape[0],df.shape[1]))"
            ]
        },
        {
            "cell_type": "markdown",
            "metadata": {
                "nbgrader": {
                    "grade": false,
                    "locked": true,
                    "solution": false
                },
                "editable": false,
                "deletable": false
            },
            "source": [
                "[Back to top](#Index:) \n",
                "\n",
                "### Question 2\n",
                "*5 points*\n",
                "\n",
                "Read the CSV file named `\"noc_regions.csv\"` in the `data\/` folder and assign it to a dataframe called `regions`."
            ]
        },
        {
            "cell_type": "code",
            "execution_count": null,
            "metadata": {
                "collapsed": true
            },
            "outputs": [],
            "source": [
                "### GRADED\n",
                "\n",
                "### YOUR SOLUTION HERE\n",
                "regions = None\n",
                "\n",
                "###\n",
                "### YOUR CODE HERE\n",
                "###\n"
            ]
        },
        {
            "cell_type": "code",
            "execution_count": null,
            "metadata": {
                "nbgrader": {
                    "grade": true,
                    "grade_id": "Question 02",
                    "locked": true,
                    "points": "5",
                    "solution": false
                },
                "editable": false,
                "deletable": false
            },
            "outputs": [],
            "source": [
                "###\n",
                "### AUTOGRADER TEST - DO NOT REMOVE\n",
                "###\n"
            ]
        },
        {
            "cell_type": "code",
            "execution_count": null,
            "metadata": {
                "nbgrader": {
                    "grade": false,
                    "locked": true,
                    "solution": false
                },
                "editable": false,
                "deletable": false
            },
            "outputs": [],
            "source": [
                "# Let's take a look at our dataframe regions\n",
                "regions.head()"
            ]
        },
        {
            "cell_type": "code",
            "execution_count": null,
            "metadata": {
                "nbgrader": {
                    "grade": false,
                    "locked": true,
                    "solution": false
                },
                "editable": false,
                "deletable": false
            },
            "outputs": [],
            "source": [
                "# Let's see the shape of out dataframe regions\n",
                "print(\"Number of rows: {}, number of columns: {}\".format(regions.shape[0],regions.shape[1]))"
            ]
        },
        {
            "cell_type": "markdown",
            "metadata": {
                "nbgrader": {
                    "grade": false,
                    "locked": true,
                    "solution": false
                },
                "editable": false,
                "deletable": false
            },
            "source": [
                "### Pandas Objects\n",
                "\n",
                "In this part of the assignment we will begin studying the two most important objects exposed by Pandas: Series and Dataframes. As you remember:\n",
                "- **Series** is a 1 dimensional data structure in Pandas.\n",
                "- **DataFrame** is a 2 dimentional data structure in Pandas, made up of columns and rows."
            ]
        },
        {
            "cell_type": "markdown",
            "metadata": {
                "nbgrader": {
                    "grade": false,
                    "locked": true,
                    "solution": false
                },
                "editable": false,
                "deletable": false
            },
            "source": [
                "[Back to top](#Index:) \n",
                "\n",
                "### Question 3\n",
                "*5 points*\n",
                "\n",
                "Select a series from the dataframe `df` with the contents of the column `Height` and store it in a variable called `height`. "
            ]
        },
        {
            "cell_type": "code",
            "execution_count": null,
            "metadata": {
                "collapsed": true
            },
            "outputs": [],
            "source": [
                "### GRADED\n",
                "\n",
                "### YOUR SOLUTION HERE\n",
                "height = None\n",
                "\n",
                "###\n",
                "### YOUR CODE HERE\n",
                "###\n"
            ]
        },
        {
            "cell_type": "code",
            "execution_count": null,
            "metadata": {
                "nbgrader": {
                    "grade": true,
                    "grade_id": "Question 03",
                    "locked": true,
                    "points": "5",
                    "solution": false
                },
                "editable": false,
                "deletable": false
            },
            "outputs": [],
            "source": [
                "###\n",
                "### AUTOGRADER TEST - DO NOT REMOVE\n",
                "###\n"
            ]
        },
        {
            "cell_type": "markdown",
            "metadata": {
                "nbgrader": {
                    "grade": false,
                    "locked": true,
                    "solution": false
                },
                "editable": false,
                "deletable": false
            },
            "source": [
                "[Back to top](#Index:) \n",
                "\n",
                "### Question 4\n",
                "*10 points*\n",
                "\n",
                "In the videos, you have seen how you can use the function `map` to transform the entries of a `pandas` `series`.\n",
                "In a similar way, you can use the function `rename` to replace the entries of a series. Like `map`, `rename` takes as argument a lambda function executing the desired transformation on the `series`.\n",
                "\n",
                "The syntax is as follows\n",
                "```Python\n",
                "new_series = series.rename(lambda x: your function)\n",
                "```\n",
                "\n",
                "Use the function `rename` to rename the index (or labels) of the series `height` by raising each old label to the power of two, like so:\n",
                "\n",
                "$$\n",
                "0 \\rightarrow 0 \\\\\n",
                "1 \\rightarrow 1 \\\\\n",
                "2 \\rightarrow 4 \\\\\n",
                "3 \\rightarrow 9\u00a0\\\\\n",
                "\\vdots\n",
                "$$\n",
                "\n",
                "Save this new series in a variable called `height_new`."
            ]
        },
        {
            "cell_type": "code",
            "execution_count": null,
            "metadata": {
                "collapsed": true,
                "nbgrader": {
                    "grade": false,
                    "grade_id": "Question 04",
                    "locked": false,
                    "points": "10",
                    "solution": false
                }
            },
            "outputs": [],
            "source": [
                "### GRADED\n",
                "\n",
                "### YOUR SOLUTION HERE\n",
                "height_new = None\n",
                "\n",
                "###\n",
                "### YOUR CODE HERE\n",
                "###\n"
            ]
        },
        {
            "cell_type": "code",
            "execution_count": null,
            "metadata": {
                "nbgrader": {
                    "grade": true,
                    "grade_id": "Question 04",
                    "locked": true,
                    "points": "10",
                    "solution": false
                },
                "editable": false,
                "deletable": false
            },
            "outputs": [],
            "source": [
                "###\n",
                "### AUTOGRADER TEST - DO NOT REMOVE\n",
                "###\n"
            ]
        },
        {
            "cell_type": "markdown",
            "metadata": {
                "nbgrader": {
                    "grade": false,
                    "locked": true,
                    "solution": false
                },
                "editable": false,
                "deletable": false
            },
            "source": [
                "[Back to top](#Index:) \n",
                "\n",
                "### Question 5\n",
                "*5 points*\n",
                "\n",
                "Select a series from the dataframe `regions` with the contents of the column `region` and store it in a variable called `reg`."
            ]
        },
        {
            "cell_type": "code",
            "execution_count": null,
            "metadata": {
                "collapsed": true
            },
            "outputs": [],
            "source": [
                "### GRADED\n",
                "\n",
                "### YOUR SOLUTION HERE\n",
                "reg = None\n",
                "\n",
                "###\n",
                "### YOUR CODE HERE\n",
                "###\n"
            ]
        },
        {
            "cell_type": "code",
            "execution_count": null,
            "metadata": {
                "nbgrader": {
                    "grade": true,
                    "grade_id": "Question 05",
                    "locked": true,
                    "points": "5",
                    "solution": false
                },
                "editable": false,
                "deletable": false
            },
            "outputs": [],
            "source": [
                "###\n",
                "### AUTOGRADER TEST - DO NOT REMOVE\n",
                "###\n"
            ]
        },
        {
            "cell_type": "markdown",
            "metadata": {
                "nbgrader": {
                    "grade": false,
                    "locked": true,
                    "solution": false
                },
                "editable": false,
                "deletable": false
            },
            "source": [
                "[Back to top](#Index:) \n",
                "\n",
                "### Question 6\n",
                "*5 points*\n",
                "    \n",
                "You can also select multiple columns at once from a dataframe to create a new dataframe.\n",
                "\n",
                "\n",
                "Create a new dataframe from the dataframe `df`, that only contain the columns `ID`, `Age`, `Height`, `Weight` and `Sex` in this specific order. Name this new dataframe `df_subset`."
            ]
        },
        {
            "cell_type": "code",
            "execution_count": null,
            "metadata": {
                "collapsed": true
            },
            "outputs": [],
            "source": [
                "### GRADED\n",
                "\n",
                "### YOUR SOLUTION HERE\n",
                "df_subset = None\n",
                "\n",
                "###\n",
                "### YOUR CODE HERE\n",
                "###\n"
            ]
        },
        {
            "cell_type": "code",
            "execution_count": null,
            "metadata": {
                "nbgrader": {
                    "grade": true,
                    "grade_id": "Question 06",
                    "locked": true,
                    "points": "5",
                    "solution": false
                },
                "editable": false,
                "deletable": false
            },
            "outputs": [],
            "source": [
                "###\n",
                "### AUTOGRADER TEST - DO NOT REMOVE\n",
                "###\n"
            ]
        },
        {
            "cell_type": "markdown",
            "metadata": {},
            "source": [
                "Let's have a look at the dataframe `df_subset` by using the command `.head()`"
            ]
        },
        {
            "cell_type": "code",
            "execution_count": null,
            "metadata": {},
            "outputs": [],
            "source": [
                "df_subset.head()"
            ]
        },
        {
            "cell_type": "markdown",
            "metadata": {
                "nbgrader": {
                    "grade": false,
                    "locked": true,
                    "solution": false
                },
                "editable": false,
                "deletable": false
            },
            "source": [
                "[Back to top](#Index:) \n",
                "\n",
                "### Question 7\n",
                "*10 points*\n",
                "    \n",
                "Observe the dataframe `df_subset`, above. You see that the column `Sex` contains entries `M` and `F` based on whether an athlete was a male or a female, respectively.\n",
                "\n",
                "Create a new column, `New sex`, in our dataframe. Fill this column by using the function `map` to change the entries of the column `sex` from `M` to `male` and from `F` to `female`.\n",
                "\n",
                "The syntax is as follows\n",
                "```Python\n",
                "dataframe['column'] = dataframe.column.map(lambda x: your function)\n",
                "```\n",
                "\n",
                "**HINT: Notice that we are adding a new column, not replacing an existing one!**\n"
            ]
        },
        {
            "cell_type": "code",
            "execution_count": null,
            "metadata": {
                "collapsed": true
            },
            "outputs": [],
            "source": [
                "### GRADED\n",
                "\n",
                "### YOUR SOLUTION HERE\n",
                "\n",
                "###\n",
                "### YOUR CODE HERE\n",
                "###\n"
            ]
        },
        {
            "cell_type": "code",
            "execution_count": null,
            "metadata": {
                "nbgrader": {
                    "grade": true,
                    "grade_id": "Question 07",
                    "locked": true,
                    "points": "10",
                    "solution": false
                },
                "editable": false,
                "deletable": false
            },
            "outputs": [],
            "source": [
                "###\n",
                "### AUTOGRADER TEST - DO NOT REMOVE\n",
                "###\n"
            ]
        },
        {
            "cell_type": "markdown",
            "metadata": {
                "nbgrader": {
                    "grade": false,
                    "locked": true,
                    "solution": false
                },
                "editable": false,
                "deletable": false
            },
            "source": [
                "### Indexing and selecting data from Dataframes\n",
                "\n",
                "In this part of the assignment we will work with the dataframes from above to select specific data using Pandas different methods and attributes. You have learned to use `loc[]` and `iloc[]` to do this."
            ]
        },
        {
            "cell_type": "markdown",
            "metadata": {
                "nbgrader": {
                    "grade": false,
                    "locked": true,
                    "solution": false
                },
                "editable": false,
                "deletable": false
            },
            "source": [
                "[Back to top](#Index:) \n",
                "\n",
                "### Question 8\n",
                "*5 points*\n",
                "\n",
                "Create a new dataframe called `df_1` by selecting the following from the dataframe `df`:\n",
                "- the rows with labels from 3 through 11.\n",
                "- the columns from `ID` to `Height`."
            ]
        },
        {
            "cell_type": "code",
            "execution_count": null,
            "metadata": {
                "collapsed": true
            },
            "outputs": [],
            "source": [
                "### GRADED\n",
                "\n",
                "### YOUR SOLUTION HERE\n",
                "df_1 = None\n",
                "\n",
                "###\n",
                "### YOUR CODE HERE\n",
                "###\n"
            ]
        },
        {
            "cell_type": "code",
            "execution_count": null,
            "metadata": {
                "nbgrader": {
                    "grade": true,
                    "grade_id": "Question 08",
                    "locked": true,
                    "points": "5",
                    "solution": false
                },
                "editable": false,
                "deletable": false
            },
            "outputs": [],
            "source": [
                "###\n",
                "### AUTOGRADER TEST - DO NOT REMOVE\n",
                "###\n"
            ]
        },
        {
            "cell_type": "markdown",
            "metadata": {
                "nbgrader": {
                    "grade": false,
                    "locked": true,
                    "solution": false
                },
                "editable": false,
                "deletable": false
            },
            "source": [
                "[Back to top](#Index:) \n",
                "\n",
                "### Question 9\n",
                "*10 points*\n",
                "\n",
                "Select all the rows from the dataframe `df` when the `Year` is greater than 1980. Assign this dataframe to `df_year`.\n",
                "\n",
                "Next, select all the rows in `df_year` where `Team` is equal to \"China\", \"United States\", \"Italy\" or \"Spain\". Save your results in a dataframe called `df_country`.\n",
                "\n",
                "**HINT**: To select only the desired countries, create a list containing the contries and use the function `isin` like so:\n",
                "\n",
                "```Python\n",
                "df.Team.isin([list with countries])\n",
                "```"
            ]
        },
        {
            "cell_type": "code",
            "execution_count": null,
            "metadata": {
                "collapsed": true
            },
            "outputs": [],
            "source": [
                "### GRADED\n",
                "\n",
                "### YOUR SOLUTION HERE\n",
                "df_year = None\n",
                "df_country = None\n",
                "\n",
                "###\n",
                "### YOUR CODE HERE\n",
                "###\n"
            ]
        },
        {
            "cell_type": "code",
            "execution_count": null,
            "metadata": {
                "nbgrader": {
                    "grade": true,
                    "grade_id": "Question 09",
                    "locked": true,
                    "points": "10",
                    "solution": false
                },
                "editable": false,
                "deletable": false
            },
            "outputs": [],
            "source": [
                "###\n",
                "### AUTOGRADER TEST - DO NOT REMOVE\n",
                "###\n"
            ]
        },
        {
            "cell_type": "markdown",
            "metadata": {
                "nbgrader": {
                    "grade": false,
                    "locked": true,
                    "solution": false
                },
                "editable": false,
                "deletable": false
            },
            "source": [
                "[Back to top](#Index:) \n",
                "\n",
                "### Question 10\n",
                "*5 points*\n",
                "\n",
                "Using the function `iloc()` select the rows with index 0, 10, 20, 40, 43, 66 and the columns with index 0, 3, 5 from the dataframe `df`. Store your results in a dataframe called `df_3`."
            ]
        },
        {
            "cell_type": "code",
            "execution_count": null,
            "metadata": {
                "collapsed": true
            },
            "outputs": [],
            "source": [
                "### GRADED\n",
                "\n",
                "### YOUR SOLUTION HERE\n",
                "df_3 = None\n",
                "\n",
                "###\n",
                "### YOUR CODE HERE\n",
                "###\n"
            ]
        },
        {
            "cell_type": "code",
            "execution_count": null,
            "metadata": {
                "nbgrader": {
                    "grade": true,
                    "grade_id": "Question 10",
                    "locked": true,
                    "points": "5",
                    "solution": false
                },
                "editable": false,
                "deletable": false
            },
            "outputs": [],
            "source": [
                "###\n",
                "### AUTOGRADER TEST - DO NOT REMOVE\n",
                "###\n"
            ]
        },
        {
            "cell_type": "markdown",
            "metadata": {
                "nbgrader": {
                    "grade": false,
                    "locked": true,
                    "solution": false
                },
                "editable": false,
                "deletable": false
            },
            "source": [
                "### Editing data in DataFrames and Combining DataFrames\n",
                "\n",
                "In this section we will modify the internal structure and data of dataframes, deleting some of its columns and transforming others. We will also be combining our dataframes `df` and `regions` and learn different ways of working with them."
            ]
        },
        {
            "cell_type": "markdown",
            "metadata": {
                "nbgrader": {
                    "grade": false,
                    "locked": true,
                    "solution": false
                },
                "editable": false,
                "deletable": false
            },
            "source": [
                "[Back to top](#Index:) \n",
                "\n",
                "### Question 11\n",
                "*10 points*\n",
                "    \n",
                "Use a `left` join to combine the dataframes `df` and `regions`, in this particular order, into a new dataframe called `merged`. Set the column `NOC` as the key column.\n",
                "\n",
                "**HINT**: Use the `pandas` function `merge`."
            ]
        },
        {
            "cell_type": "code",
            "execution_count": null,
            "metadata": {
                "collapsed": true
            },
            "outputs": [],
            "source": [
                "### GRADED\n",
                "\n",
                "# Let's read our data again to have the original datasets\n",
                "df = pd.read_csv(\"data\/athlete_events.csv\")\n",
                "regions = pd.read_csv(\"data\/noc_regions.csv\")\n",
                "\n",
                "### YOUR SOLUTION HERE\n",
                "merged = None\n",
                "\n",
                "###\n",
                "### YOUR CODE HERE\n",
                "###\n"
            ]
        },
        {
            "cell_type": "code",
            "execution_count": null,
            "metadata": {
                "nbgrader": {
                    "grade": true,
                    "grade_id": "Question 11",
                    "locked": true,
                    "points": "10",
                    "solution": false
                },
                "editable": false,
                "deletable": false
            },
            "outputs": [],
            "source": [
                "###\n",
                "### AUTOGRADER TEST - DO NOT REMOVE\n",
                "###\n"
            ]
        },
        {
            "cell_type": "markdown",
            "metadata": {
                "nbgrader": {
                    "grade": false,
                    "locked": true,
                    "solution": false
                },
                "editable": false,
                "deletable": false
            },
            "source": [
                "### Grouping and Aggregating DataFrames\n",
                "\n",
                "In this final section we will group and perform aggregations on our dataframes."
            ]
        },
        {
            "cell_type": "code",
            "execution_count": null,
            "metadata": {
                "nbgrader": {
                    "grade": false,
                    "locked": true,
                    "solution": false
                },
                "editable": false,
                "deletable": false
            },
            "outputs": [],
            "source": [
                "# Let's read our data again to have the original datasets\n",
                "df = pd.read_csv(\"data\/athlete_events.csv\")\n",
                "regions = pd.read_csv(\"data\/noc_regions.csv\")\n",
                "regions.head()"
            ]
        },
        {
            "cell_type": "markdown",
            "metadata": {
                "nbgrader": {
                    "grade": false,
                    "locked": true,
                    "solution": false
                },
                "editable": false,
                "deletable": false
            },
            "source": [
                "[Back to top](#Index:) \n",
                "\n",
                "### Question 12\n",
                "*10 points*\n",
                "\n",
                "Reshape the `regions` dataframe by setting:\n",
                "- index = `region`\n",
                "- columns = `NOC`\n",
                "- values = `notes`\n",
                "\n",
                "Assign the new dataframe to `regions_stacked`"
            ]
        },
        {
            "cell_type": "code",
            "execution_count": null,
            "metadata": {
                "collapsed": true
            },
            "outputs": [],
            "source": [
                "### GRADED\n",
                "\n",
                "### YOUR SOLUTION HERE\n",
                "\n",
                "regions_stacked = pd.DataFrame()\n",
                "###\n",
                "### YOUR CODE HERE\n",
                "###\n"
            ]
        },
        {
            "cell_type": "code",
            "execution_count": null,
            "metadata": {
                "nbgrader": {
                    "grade": true,
                    "grade_id": "Question 12",
                    "locked": true,
                    "points": "10",
                    "solution": false
                },
                "editable": false,
                "deletable": false
            },
            "outputs": [],
            "source": [
                "###\n",
                "### AUTOGRADER TEST - DO NOT REMOVE\n",
                "###\n"
            ]
        },
        {
            "cell_type": "markdown",
            "metadata": {
                "nbgrader": {
                    "grade": false,
                    "locked": true,
                    "solution": false
                },
                "editable": false,
                "deletable": false
            },
            "source": [
                "[Back to top](#Index:) \n",
                "\n",
                "### Question 13\n",
                "*10 points*\n",
                "\n",
                "Group the entries of the dataframe `df` by the columns `\"Season\"` and `\"Medal\"`. Assign the new dataframe to `season_medal`.\n",
                "\n",
                "Also, answer the following question: In which Olympic games did the first group of athletes participate?\n",
                "- a) 2014 Winter\n",
                "- b) 1920 Summer\n",
                "- c) 1994 Summer\n",
                "- d) 1920 Winter\n",
                "\n",
                "Assign the letter of the correct answer, as a string, to `ans13`.\n",
                "\n",
                "For instance, if you believe the correct answer is *a) 2014 Winter*, your answer would be `ans13 = 'a'`."
            ]
        },
        {
            "cell_type": "code",
            "execution_count": null,
            "metadata": {
                "collapsed": true
            },
            "outputs": [],
            "source": [
                "### GRADED\n",
                "\n",
                "### YOUR SOLUTION HERE\n",
                "season_medal = None\n",
                "ans13 =  None\n",
                "\n",
                "###\n",
                "### YOUR CODE HERE\n",
                "###\n"
            ]
        },
        {
            "cell_type": "code",
            "execution_count": null,
            "metadata": {
                "nbgrader": {
                    "grade": true,
                    "grade_id": "Question 13",
                    "locked": true,
                    "points": "10",
                    "solution": false
                },
                "editable": false,
                "deletable": false
            },
            "outputs": [],
            "source": [
                "###\n",
                "### AUTOGRADER TEST - DO NOT REMOVE\n",
                "###\n"
            ]
        },
        {
            "cell_type": "markdown",
            "metadata": {
                "nbgrader": {
                    "grade": false,
                    "locked": true,
                    "solution": false
                },
                "editable": false,
                "deletable": false
            },
            "source": [
                "[Back to top](#Index:) \n",
                "\n",
                "### Question 14\n",
                "*15 points*\n",
                "\n",
                "Perform the following aggregation operations on `df`:\n",
                "\n",
                "- compute the `max` and the `min` on the column `Age`.\n",
                "- Compute the `mean` on the column `Weight`.\n",
                "- compute the `max`, `min` and `mean` on the column `Height`.\n",
                "\n",
                "Assign the new dataframe to `df_aggr`.\n"
            ]
        },
        {
            "cell_type": "code",
            "execution_count": null,
            "metadata": {
                "collapsed": true
            },
            "outputs": [],
            "source": [
                "### GRADED\n",
                "\n",
                "### YOUR SOLUTION HERE\n",
                "df_aggr = None\n",
                "\n",
                "###\n",
                "### YOUR CODE HERE\n",
                "###\n"
            ]
        },
        {
            "cell_type": "code",
            "execution_count": null,
            "metadata": {
                "nbgrader": {
                    "grade": true,
                    "grade_id": "Question 14",
                    "locked": true,
                    "points": "15",
                    "solution": false
                },
                "editable": false,
                "deletable": false
            },
            "outputs": [],
            "source": [
                "###\n",
                "### AUTOGRADER TEST - DO NOT REMOVE\n",
                "###\n"
            ]
        }
    ],
    "metadata": {
        "kernelspec": {
            "display_name": "Python 3 [3.7]",
            "language": "python",
            "name": "python3"
        },
        "language_info": {
            "codemirror_mode": {
                "name": "ipython",
                "version": 3
            },
            "file_extension": ".py",
            "mimetype": "text\/x-python",
            "name": "python",
            "nbconvert_exporter": "python",
            "pygments_lexer": "ipython3",
            "version": "3.7.5"
        }
    },
    "nbformat": 4,
    "nbformat_minor": 4
}