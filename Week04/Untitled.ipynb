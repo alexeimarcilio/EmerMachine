{
 "cells": [
  {
   "cell_type": "markdown",
   "id": "48b9d30c",
   "metadata": {},
   "source": [
    "## Numpy and Pandas"
   ]
  },
  {
   "cell_type": "code",
   "execution_count": 1,
   "id": "5ca548cc",
   "metadata": {},
   "outputs": [],
   "source": [
    "import pandas as pd"
   ]
  },
  {
   "cell_type": "code",
   "execution_count": 2,
   "id": "fa3f5cea",
   "metadata": {},
   "outputs": [
    {
     "data": {
      "text/plain": [
       "'1.1.2'"
      ]
     },
     "execution_count": 2,
     "metadata": {},
     "output_type": "execute_result"
    }
   ],
   "source": [
    "pd.__version__"
   ]
  },
  {
   "cell_type": "code",
   "execution_count": 3,
   "id": "0c363409",
   "metadata": {},
   "outputs": [],
   "source": [
    "import numpy as np"
   ]
  },
  {
   "cell_type": "code",
   "execution_count": 4,
   "id": "271af618",
   "metadata": {},
   "outputs": [
    {
     "data": {
      "text/plain": [
       "1"
      ]
     },
     "execution_count": 4,
     "metadata": {},
     "output_type": "execute_result"
    }
   ],
   "source": [
    "np.sign(5)"
   ]
  },
  {
   "cell_type": "code",
   "execution_count": 5,
   "id": "2f46dbb5",
   "metadata": {},
   "outputs": [
    {
     "data": {
      "text/plain": [
       "'1.18.1'"
      ]
     },
     "execution_count": 5,
     "metadata": {},
     "output_type": "execute_result"
    }
   ],
   "source": [
    "np.__version__"
   ]
  },
  {
   "cell_type": "code",
   "execution_count": 8,
   "id": "bf833736",
   "metadata": {},
   "outputs": [],
   "source": [
    "mass = [12,20,32]"
   ]
  },
  {
   "cell_type": "code",
   "execution_count": 9,
   "id": "ad2cb30b",
   "metadata": {},
   "outputs": [],
   "source": [
    "volume = [36, 18, 10]"
   ]
  },
  {
   "cell_type": "code",
   "execution_count": 10,
   "id": "e907aa1f",
   "metadata": {},
   "outputs": [],
   "source": [
    "mass_array = np.array(mass)"
   ]
  },
  {
   "cell_type": "code",
   "execution_count": 13,
   "id": "e243bac2",
   "metadata": {},
   "outputs": [],
   "source": [
    "volume_array = np.array(volume)"
   ]
  },
  {
   "cell_type": "code",
   "execution_count": 14,
   "id": "0929b1d7",
   "metadata": {},
   "outputs": [],
   "source": [
    "density = mass_array/volume_array"
   ]
  },
  {
   "cell_type": "code",
   "execution_count": 15,
   "id": "96e882e8",
   "metadata": {},
   "outputs": [
    {
     "data": {
      "text/plain": [
       "array([0.33333333, 1.11111111, 3.2       ])"
      ]
     },
     "execution_count": 15,
     "metadata": {},
     "output_type": "execute_result"
    }
   ],
   "source": [
    "density"
   ]
  },
  {
   "cell_type": "markdown",
   "id": "ca469e62",
   "metadata": {},
   "source": [
    "### Numpy arrays can only have one data type"
   ]
  },
  {
   "cell_type": "code",
   "execution_count": 18,
   "id": "60a0f0b4",
   "metadata": {},
   "outputs": [],
   "source": [
    "massvolume = [[12,20,32],[36,18,10]]"
   ]
  },
  {
   "cell_type": "code",
   "execution_count": 19,
   "id": "f1f89ab1",
   "metadata": {},
   "outputs": [
    {
     "data": {
      "text/plain": [
       "[[12, 20, 32], [36, 18, 10]]"
      ]
     },
     "execution_count": 19,
     "metadata": {},
     "output_type": "execute_result"
    }
   ],
   "source": [
    "massvolume"
   ]
  },
  {
   "cell_type": "code",
   "execution_count": 20,
   "id": "55ddcef2",
   "metadata": {},
   "outputs": [],
   "source": [
    "massvolume_array = np.array(massvolume)"
   ]
  },
  {
   "cell_type": "code",
   "execution_count": 21,
   "id": "9959b51d",
   "metadata": {},
   "outputs": [
    {
     "data": {
      "text/plain": [
       "array([[12, 20, 32],\n",
       "       [36, 18, 10]])"
      ]
     },
     "execution_count": 21,
     "metadata": {},
     "output_type": "execute_result"
    }
   ],
   "source": [
    "massvolume_array"
   ]
  },
  {
   "cell_type": "code",
   "execution_count": 22,
   "id": "ecfd0a70",
   "metadata": {},
   "outputs": [
    {
     "name": "stdout",
     "output_type": "stream",
     "text": [
      "[[12 20 32]\n",
      " [36 18 10]]\n"
     ]
    }
   ],
   "source": [
    "print(massvolume_array)"
   ]
  },
  {
   "cell_type": "code",
   "execution_count": 24,
   "id": "d10ff705",
   "metadata": {},
   "outputs": [
    {
     "data": {
      "text/plain": [
       "(2, 3)"
      ]
     },
     "execution_count": 24,
     "metadata": {},
     "output_type": "execute_result"
    }
   ],
   "source": [
    "massvolume_array.shape"
   ]
  },
  {
   "cell_type": "code",
   "execution_count": 25,
   "id": "bc40af48",
   "metadata": {},
   "outputs": [
    {
     "data": {
      "text/plain": [
       "10"
      ]
     },
     "execution_count": 25,
     "metadata": {},
     "output_type": "execute_result"
    }
   ],
   "source": [
    "massvolume_array[1,2]"
   ]
  },
  {
   "cell_type": "code",
   "execution_count": 30,
   "id": "d9de1996",
   "metadata": {},
   "outputs": [
    {
     "data": {
      "text/plain": [
       "array([[12, 20, 32],\n",
       "       [36, 18, 10]])"
      ]
     },
     "execution_count": 30,
     "metadata": {},
     "output_type": "execute_result"
    }
   ],
   "source": [
    "massvolume_array[0:2, 0:3]"
   ]
  },
  {
   "cell_type": "markdown",
   "id": "0914f7bb",
   "metadata": {},
   "source": [
    "Looping over a 2 D numpy array"
   ]
  },
  {
   "cell_type": "code",
   "execution_count": 31,
   "id": "6d21a042",
   "metadata": {},
   "outputs": [
    {
     "name": "stdout",
     "output_type": "stream",
     "text": [
      "117.60000000000001\n",
      "196.0\n",
      "313.6\n"
     ]
    }
   ],
   "source": [
    "for mass in mass_array:\n",
    "    weight = mass * 9.8\n",
    "    print(weight)"
   ]
  },
  {
   "cell_type": "code",
   "execution_count": 32,
   "id": "8a4f097a",
   "metadata": {},
   "outputs": [
    {
     "data": {
      "text/plain": [
       "[[12, 20, 32], [36, 18, 10]]"
      ]
     },
     "execution_count": 32,
     "metadata": {},
     "output_type": "execute_result"
    }
   ],
   "source": [
    "massvolume"
   ]
  },
  {
   "cell_type": "code",
   "execution_count": 33,
   "id": "d753d63a",
   "metadata": {},
   "outputs": [
    {
     "data": {
      "text/plain": [
       "array([[12, 20, 32],\n",
       "       [36, 18, 10]])"
      ]
     },
     "execution_count": 33,
     "metadata": {},
     "output_type": "execute_result"
    }
   ],
   "source": [
    "massvolume_array"
   ]
  },
  {
   "cell_type": "markdown",
   "id": "0de8bc0d",
   "metadata": {},
   "source": [
    "np.nditer function"
   ]
  },
  {
   "cell_type": "code",
   "execution_count": 34,
   "id": "6e11c7da",
   "metadata": {},
   "outputs": [
    {
     "name": "stdout",
     "output_type": "stream",
     "text": [
      "12\n",
      "20\n",
      "32\n",
      "36\n",
      "18\n",
      "10\n"
     ]
    }
   ],
   "source": [
    "for value in np.nditer(massvolume_array):\n",
    "    print(value)"
   ]
  },
  {
   "cell_type": "code",
   "execution_count": 36,
   "id": "85d7ed5d",
   "metadata": {},
   "outputs": [
    {
     "name": "stdout",
     "output_type": "stream",
     "text": [
      "117.60000000000001\n",
      "196.0\n",
      "313.6\n"
     ]
    }
   ],
   "source": [
    "for value in np.nditer(massvolume_array[0]):\n",
    "    weight = value * 9.8\n",
    "    print(weight)"
   ]
  },
  {
   "cell_type": "code",
   "execution_count": 37,
   "id": "fdb405d4",
   "metadata": {},
   "outputs": [],
   "source": [
    "from numpy import array"
   ]
  },
  {
   "cell_type": "code",
   "execution_count": 40,
   "id": "a49b4ffc",
   "metadata": {},
   "outputs": [],
   "source": [
    "list1 = [3,6,2,7,8]"
   ]
  },
  {
   "cell_type": "code",
   "execution_count": 41,
   "id": "b5e38e73",
   "metadata": {},
   "outputs": [],
   "source": [
    "array_1 = np.array(list1)"
   ]
  },
  {
   "cell_type": "raw",
   "id": "7f33e09e",
   "metadata": {},
   "source": [
    "array_1"
   ]
  },
  {
   "cell_type": "code",
   "execution_count": 42,
   "id": "7de9d2d3",
   "metadata": {},
   "outputs": [
    {
     "name": "stdout",
     "output_type": "stream",
     "text": [
      "[3 6 2 7 8]\n"
     ]
    }
   ],
   "source": [
    "print(array_1)"
   ]
  },
  {
   "cell_type": "code",
   "execution_count": null,
   "id": "ecdd8291",
   "metadata": {},
   "outputs": [],
   "source": []
  },
  {
   "cell_type": "code",
   "execution_count": null,
   "id": "6343ab28",
   "metadata": {},
   "outputs": [],
   "source": []
  },
  {
   "cell_type": "code",
   "execution_count": null,
   "id": "ca70ffee",
   "metadata": {},
   "outputs": [],
   "source": []
  },
  {
   "cell_type": "code",
   "execution_count": null,
   "id": "f2c92432",
   "metadata": {},
   "outputs": [],
   "source": []
  },
  {
   "cell_type": "code",
   "execution_count": null,
   "id": "2005e7af",
   "metadata": {},
   "outputs": [],
   "source": []
  },
  {
   "cell_type": "code",
   "execution_count": null,
   "id": "bcd0329e",
   "metadata": {},
   "outputs": [],
   "source": []
  }
 ],
 "metadata": {
  "kernelspec": {
   "display_name": "Python (em_ml)",
   "language": "python",
   "name": "em_ml"
  },
  "language_info": {
   "codemirror_mode": {
    "name": "ipython",
    "version": 3
   },
   "file_extension": ".py",
   "mimetype": "text/x-python",
   "name": "python",
   "nbconvert_exporter": "python",
   "pygments_lexer": "ipython3",
   "version": "3.8.0"
  },
  "latex_envs": {
   "LaTeX_envs_menu_present": true,
   "autoclose": false,
   "autocomplete": true,
   "bibliofile": "biblio.bib",
   "cite_by": "apalike",
   "current_citInitial": 1,
   "eqLabelWithNumbers": true,
   "eqNumInitial": 1,
   "hotkeys": {
    "equation": "Ctrl-E",
    "itemize": "Ctrl-I"
   },
   "labels_anchors": false,
   "latex_user_defs": false,
   "report_style_numbering": false,
   "user_envs_cfg": false
  },
  "toc": {
   "base_numbering": 1,
   "nav_menu": {},
   "number_sections": false,
   "sideBar": true,
   "skip_h1_title": true,
   "title_cell": "Table of Contents",
   "title_sidebar": "Contents",
   "toc_cell": false,
   "toc_position": {},
   "toc_section_display": true,
   "toc_window_display": false
  }
 },
 "nbformat": 4,
 "nbformat_minor": 5
}
